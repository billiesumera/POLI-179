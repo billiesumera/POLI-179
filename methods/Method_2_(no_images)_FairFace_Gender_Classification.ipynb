{
  "cells": [
    {
      "cell_type": "markdown",
      "metadata": {
        "id": "CTcfzFU-UWtE"
      },
      "source": [
        "# Bing Image Collection and Libraries\n"
      ]
    },
    {
      "cell_type": "code",
      "execution_count": null,
      "metadata": {
        "id": "scrlTxrZTZdK"
      },
      "outputs": [],
      "source": [
        "!pip install pandas\n",
        "!pip install pillow\n",
        "\n",
        "import os\n",
        "import pandas as pd\n",
        "import numpy as np\n",
        "from PIL import Image, ImageDraw, ImageFont\n",
        "import matplotlib.pyplot as plt\n",
        "import shutil"
      ]
    },
    {
      "cell_type": "code",
      "execution_count": null,
      "metadata": {
        "id": "H_gXTAIm_aPC"
      },
      "outputs": [],
      "source": [
        "! pip install bing-image-downloader\n",
        "from bing_image_downloader import downloader"
      ]
    },
    {
      "cell_type": "code",
      "execution_count": null,
      "metadata": {
        "id": "zCMjeLDfG5ce"
      },
      "outputs": [],
      "source": [
        "# Mount Google Drive\n",
        "from google.colab import drive\n",
        "drive.mount('/content/drive/')\n",
        "\n",
        "! mkdir images"
      ]
    },
    {
      "cell_type": "markdown",
      "metadata": {
        "id": "vBUz9i2FUg9u"
      },
      "source": [
        "# FairFace Model and Libraries\n"
      ]
    },
    {
      "cell_type": "code",
      "execution_count": null,
      "metadata": {
        "id": "pKtN_FbQUkWA"
      },
      "outputs": [],
      "source": [
        "! git clone https://github.com/dchen236/FairFace.git\n",
        "! pip install dlib\n",
        "%cd FairFace\n",
        "\n",
        "!ls"
      ]
    },
    {
      "cell_type": "code",
      "execution_count": null,
      "metadata": {
        "id": "N0Ps0J15cNf1"
      },
      "outputs": [],
      "source": [
        "# Mount Google Drive\n",
        "from google.colab import drive\n",
        "drive.mount('/content/drive/', force_remount=True)\n",
        "\n",
        "# Define the paths\n",
        "import os\n",
        "import shutil\n",
        "\n",
        "# Define the path to the Google Drive project folder\n",
        "drive_project_path = '/content/drive/My Drive/POLI_179_Project'\n",
        "\n",
        "# Define the model file paths in Google Drive\n",
        "model_files = [\n",
        "    'fairface_alldata_20191111.pt',\n",
        "    'fairface_alldata_4race_20191111.pt'\n",
        "]\n",
        "\n",
        "# Define the destination directory in FairFace project\n",
        "fairface_model_dir = '/content/FairFace/fair_face_models'\n",
        "\n",
        "# Create the destination directory if it doesn't exist\n",
        "os.makedirs(fairface_model_dir, exist_ok=True)\n",
        "\n",
        "# Copy each model file from Google Drive to the FairFace directory\n",
        "for model_file in model_files:\n",
        "    model_file_drive_path = os.path.join(drive_project_path, model_file)\n",
        "    model_file_fairface_path = os.path.join(fairface_model_dir, model_file)\n",
        "\n",
        "    shutil.copy(model_file_drive_path, model_file_fairface_path)\n",
        "    print(f\"Model file {model_file} copied to: {model_file_fairface_path}\")"
      ]
    },
    {
      "cell_type": "markdown",
      "metadata": {
        "id": "yYvHuRvsN3ow"
      },
      "source": [
        "# Job 1:Doctor"
      ]
    },
    {
      "cell_type": "code",
      "execution_count": null,
      "metadata": {
        "id": "aSAjB7bCB4BX"
      },
      "outputs": [],
      "source": [
        "from bing_image_downloader import downloader\n",
        "downloader.download(\"doctor\", limit=100,  output_dir='images', adult_filter_off=True, force_replace=False)"
      ]
    },
    {
      "cell_type": "code",
      "execution_count": null,
      "metadata": {
        "id": "HrffcMQQWn7v"
      },
      "outputs": [],
      "source": [
        "!ls 'images'/'doctor'"
      ]
    },
    {
      "cell_type": "code",
      "execution_count": null,
      "metadata": {
        "id": "dm3ySOjzYTzO"
      },
      "outputs": [],
      "source": [
        "# Mount Google Drive\n",
        "from google.colab import drive\n",
        "drive.mount('/content/drive/', force_remount=True)\n",
        "\n",
        "# Define the correct directory containing the images\n",
        "doctor_image_dir = 'images/doctor'\n",
        "\n",
        "# Verify the directory exists\n",
        "if os.path.exists(doctor_image_dir):\n",
        "    # Get the list of image file names\n",
        "    doctor_image_files = os.listdir(doctor_image_dir)\n",
        "\n",
        "    # Create a DataFrame with the full image paths\n",
        "    doctor_df = pd.DataFrame([{'img_path': os.path.join(doctor_image_dir, img)} for img in doctor_image_files])\n",
        "\n",
        "    # Define the path to save the CSV file in Google Drive\n",
        "    doctor_csv_path = '/content/drive/My Drive/doctor_images.csv'\n",
        "\n",
        "    # Save the DataFrame as a CSV file\n",
        "    doctor_df.to_csv(doctor_csv_path, index=False)\n",
        "\n",
        "    print(f\"DataFrame saved as CSV file at: {doctor_csv_path}\")\n",
        "else:\n",
        "    print(f\"The directory {doctor_image_dir} does not exist.\")\n"
      ]
    },
    {
      "cell_type": "markdown",
      "metadata": {
        "id": "d5qRw7AsEt5r"
      },
      "source": [
        "\n",
        "\n",
        "# Gender Detection - Doctor\n"
      ]
    },
    {
      "cell_type": "code",
      "execution_count": null,
      "metadata": {
        "id": "A9wiUcR4ZDsK"
      },
      "outputs": [],
      "source": [
        "# Define the path to the CSV file in Google Drive\n",
        "doctor_csv_path = '/content/drive/My Drive/doctor_images.csv'\n",
        "\n",
        "# Define the path to the FairFace directory\n",
        "fairface_dir = '/content/FairFace/'\n",
        "\n",
        "# Verify the FairFace directory exists\n",
        "if os.path.exists(fairface_dir):\n",
        "    # Define the destination path for the CSV file in the FairFace directory\n",
        "    fairface_csv_path = os.path.join(fairface_dir, 'doctor_images.csv')\n",
        "\n",
        "    # Copy the CSV file to the FairFace directory\n",
        "    shutil.copy(doctor_csv_path, fairface_csv_path)\n",
        "\n",
        "    print(f\"CSV file copied to: {fairface_csv_path}\")\n",
        "else:\n",
        "    print(f\"The directory {fairface_dir} does not exist.\")\n"
      ]
    },
    {
      "cell_type": "code",
      "source": [
        "# Define the path to the test outputs CSV file\n",
        "test_outputs_csv_path = '/content/FairFace/test_outputs.csv'\n",
        "\n",
        "# Clear the contents of the file\n",
        "with open(test_outputs_csv_path, 'w') as file:\n",
        "    file.truncate(0)\n",
        "\n",
        "print(f\"Cleared the contents of {test_outputs_csv_path}\")"
      ],
      "metadata": {
        "id": "eFHOnELMKHYw"
      },
      "execution_count": null,
      "outputs": []
    },
    {
      "cell_type": "code",
      "execution_count": null,
      "metadata": {
        "id": "9Fw0UVDAaIga"
      },
      "outputs": [],
      "source": [
        "%cd /content/FairFace\n",
        "\n",
        "!python3 predict.py --csv \"doctor_images.csv\""
      ]
    },
    {
      "cell_type": "code",
      "execution_count": null,
      "metadata": {
        "id": "gL_fDx5AjQzk"
      },
      "outputs": [],
      "source": [
        "# Define the path to the test outputs CSV file\n",
        "test_outputs_csv_path = '/content/FairFace/test_outputs.csv'\n",
        "\n",
        "# Read the CSV file into a DataFrame\n",
        "predictions_df = pd.read_csv(test_outputs_csv_path)\n",
        "\n",
        "# Function to display an image with a title\n",
        "def display_image_with_title(image_path, title):\n",
        "    img = Image.open(image_path)\n",
        "    plt.imshow(img)\n",
        "    plt.title(title)\n",
        "    plt.axis('off')  # Hide the axis\n",
        "    plt.show()\n",
        "\n",
        "# Define the path to the directory where detected faces are saved\n",
        "detected_faces_dir = '/content/FairFace/detected_faces'\n",
        "\n",
        "# Use the correct column names from the CSV\n",
        "image_path_column = 'face_name_align'  # Correct column name for image paths\n",
        "gender_column = 'gender'  # Column name for gender predictions\n",
        "\n",
        "# Filter and display only the detected faces from \"doctor\" images with gender predictions\n",
        "doctor_image_prefix = \"Image_\"\n",
        "for index, row in predictions_df.iterrows():\n",
        "    # Construct the file name and path\n",
        "    image_name = os.path.basename(row[image_path_column])\n",
        "    if image_name.startswith(doctor_image_prefix):\n",
        "        image_path = os.path.join(detected_faces_dir, image_name)\n",
        "        gender_prediction = row[gender_column]\n",
        "        title = f\"Gender: {gender_prediction}\"\n",
        "        print(f\"Displaying image: {image_name} with gender prediction: {gender_prediction}\")\n",
        "        display_image_with_title(image_path, title)\n"
      ]
    },
    {
      "cell_type": "code",
      "source": [
        "# Define the path to the test outputs CSV file\n",
        "test_outputs_csv_path = '/content/FairFace/test_outputs.csv'\n",
        "\n",
        "# Read the CSV file into a DataFrame\n",
        "predictions_df = pd.read_csv(test_outputs_csv_path)\n",
        "\n",
        "# Display the first few rows to verify\n",
        "print(predictions_df.head())\n",
        "\n",
        "# Calculate the gender distribution\n",
        "gender_distribution = predictions_df['gender'].value_counts()\n",
        "\n",
        "# Display the gender distribution\n",
        "print(gender_distribution)\n",
        "\n",
        "# Plot the gender distribution\n",
        "plt.figure(figsize=(8, 6))\n",
        "gender_distribution.plot(kind='bar', color=['blue', 'pink'])\n",
        "plt.title('Gender Distribution')\n",
        "plt.xlabel('Gender')\n",
        "plt.ylabel('Count')\n",
        "plt.xticks(rotation=0)\n",
        "plt.show()\n"
      ],
      "metadata": {
        "id": "9Re1CNX1j80R"
      },
      "execution_count": null,
      "outputs": []
    },
    {
      "cell_type": "markdown",
      "metadata": {
        "id": "7RhtfxhUJN51"
      },
      "source": [
        "# Job 2: Police"
      ]
    },
    {
      "cell_type": "code",
      "execution_count": null,
      "metadata": {
        "id": "OzTl7U44JVFH"
      },
      "outputs": [],
      "source": [
        "downloader.download(\"police\", limit=100,  output_dir='images', adult_filter_off=True, force_replace=False)"
      ]
    },
    {
      "cell_type": "code",
      "execution_count": null,
      "metadata": {
        "id": "ukiWbERPJap-"
      },
      "outputs": [],
      "source": [
        "!ls 'images'/'police'"
      ]
    },
    {
      "cell_type": "code",
      "execution_count": null,
      "metadata": {
        "id": "S1ZZDgBPsLBo"
      },
      "outputs": [],
      "source": [
        "# Mount Google Drive\n",
        "from google.colab import drive\n",
        "drive.mount('/content/drive/', force_remount=True)\n",
        "\n",
        "# Define the correct directory containing the images\n",
        "police_image_dir = 'images/police'\n",
        "\n",
        "# Verify the directory exists\n",
        "if os.path.exists(police_image_dir):\n",
        "    # Get the list of image file names\n",
        "    police_image_files = os.listdir(police_image_dir)\n",
        "\n",
        "    # Create a DataFrame with the full image paths\n",
        "    police_df = pd.DataFrame([{'img_path': os.path.join(police_image_dir, img)} for img in police_image_files])\n",
        "\n",
        "    # Define the path to save the CSV file in Google Drive\n",
        "    police_csv_path = '/content/drive/My Drive/police_images.csv'\n",
        "\n",
        "    # Save the DataFrame as a CSV file\n",
        "    police_df.to_csv(police_csv_path, index=False)\n",
        "\n",
        "    print(f\"DataFrame saved as CSV file at: {police_csv_path}\")\n",
        "else:\n",
        "    print(f\"The directory {police_image_dir} does not exist.\")\n"
      ]
    },
    {
      "cell_type": "markdown",
      "metadata": {
        "id": "RPSHtEXoInar"
      },
      "source": [
        "# Gender Detection - Police"
      ]
    },
    {
      "cell_type": "code",
      "execution_count": null,
      "metadata": {
        "id": "pgchbgEJbrNH"
      },
      "outputs": [],
      "source": [
        "# Define the path to the CSV file in Google Drive\n",
        "police_csv_path = '/content/drive/My Drive/police_images.csv'\n",
        "\n",
        "# Define the path to the FairFace directory\n",
        "fairface_dir = '/content/FairFace/'\n",
        "\n",
        "# Verify the FairFace directory exists\n",
        "if os.path.exists(fairface_dir):\n",
        "    # Define the destination path for the CSV file in the FairFace directory\n",
        "    fairface_csv_path = os.path.join(fairface_dir, 'police_images.csv')\n",
        "\n",
        "    # Copy the CSV file to the FairFace directory\n",
        "    shutil.copy(police_csv_path, fairface_csv_path)\n",
        "\n",
        "    print(f\"CSV file copied to: {fairface_csv_path}\")\n",
        "else:\n",
        "    print(f\"The directory {fairface_dir} does not exist.\")"
      ]
    },
    {
      "cell_type": "code",
      "source": [
        "# Define the path to the test outputs CSV file\n",
        "test_outputs_csv_path = '/content/FairFace/test_outputs.csv'\n",
        "\n",
        "# Clear the contents of the file\n",
        "with open(test_outputs_csv_path, 'w') as file:\n",
        "    file.truncate(0)\n",
        "\n",
        "print(f\"Cleared the contents of {test_outputs_csv_path}\")"
      ],
      "metadata": {
        "id": "pRxIIf9rL1R_"
      },
      "execution_count": null,
      "outputs": []
    },
    {
      "cell_type": "code",
      "source": [
        "# Clear the detected_faces directory\n",
        "if os.path.exists(detected_faces_dir):\n",
        "    for file_name in os.listdir(detected_faces_dir):\n",
        "        file_path = os.path.join(detected_faces_dir, file_name)\n",
        "        if os.path.isfile(file_path):\n",
        "            os.unlink(file_path)\n",
        "        elif os.path.isdir(file_path):\n",
        "            shutil.rmtree(file_path)\n",
        "    print(f\"Cleared the directory: {detected_faces_dir}\")\n",
        "else:\n",
        "    os.makedirs(detected_faces_dir)\n",
        "    print(f\"Created the directory: {detected_faces_dir}\")\n"
      ],
      "metadata": {
        "id": "SBdEOpJLgTWx"
      },
      "execution_count": null,
      "outputs": []
    },
    {
      "cell_type": "code",
      "execution_count": null,
      "metadata": {
        "id": "PlPg5sLeungg"
      },
      "outputs": [],
      "source": [
        "%cd /content/FairFace\n",
        "\n",
        "!python3 predict.py --csv \"police_images.csv\""
      ]
    },
    {
      "cell_type": "code",
      "execution_count": null,
      "metadata": {
        "id": "xiXjpz8QcJSu"
      },
      "outputs": [],
      "source": [
        "# Define the path to the test outputs CSV file\n",
        "test_outputs_csv_path = '/content/FairFace/test_outputs.csv'\n",
        "\n",
        "# Read the CSV file into a DataFrame\n",
        "predictions_df = pd.read_csv(test_outputs_csv_path)\n",
        "\n",
        "# Function to display an image with a title\n",
        "def display_image_with_title(image_path, title):\n",
        "    img = Image.open(image_path)\n",
        "    plt.imshow(img)\n",
        "    plt.title(title)\n",
        "    plt.axis('off')  # Hide the axis\n",
        "    plt.show()\n",
        "\n",
        "# Define the path to the directory where detected faces are saved\n",
        "detected_faces_dir = '/content/FairFace/detected_faces'\n",
        "\n",
        "# Use the correct column names from the CSV\n",
        "image_path_column = 'face_name_align'  # Correct column name for image paths\n",
        "gender_column = 'gender'  # Column name for gender predictions\n",
        "\n",
        "# Filter and display only the detected faces from \"doctor\" images with gender predictions\n",
        "doctor_image_prefix = \"Image_\"\n",
        "for index, row in predictions_df.iterrows():\n",
        "    # Construct the file name and path\n",
        "    image_name = os.path.basename(row[image_path_column])\n",
        "    if image_name.startswith(doctor_image_prefix):\n",
        "        image_path = os.path.join(detected_faces_dir, image_name)\n",
        "        gender_prediction = row[gender_column]\n",
        "        title = f\"Gender: {gender_prediction}\"\n",
        "        print(f\"Displaying image: {image_name} with gender prediction: {gender_prediction}\")\n",
        "        display_image_with_title(image_path, title)"
      ]
    },
    {
      "cell_type": "code",
      "source": [
        "# Define the path to the test outputs CSV file\n",
        "test_outputs_csv_path = '/content/FairFace/test_outputs.csv'\n",
        "\n",
        "# Read the CSV file into a DataFrame\n",
        "predictions_df = pd.read_csv(test_outputs_csv_path)\n",
        "\n",
        "# Display the first few rows to verify\n",
        "print(predictions_df.head())\n",
        "\n",
        "# Calculate the gender distribution\n",
        "gender_distribution = predictions_df['gender'].value_counts()\n",
        "\n",
        "# Display the gender distribution\n",
        "print(gender_distribution)\n",
        "\n",
        "# Plot the gender distribution\n",
        "plt.figure(figsize=(8, 6))\n",
        "gender_distribution.plot(kind='bar', color=['blue', 'pink'])\n",
        "plt.title('Gender Distribution')\n",
        "plt.xlabel('Gender')\n",
        "plt.ylabel('Count')\n",
        "plt.xticks(rotation=0)\n",
        "plt.show()"
      ],
      "metadata": {
        "id": "cqIyaTMjlARo"
      },
      "execution_count": null,
      "outputs": []
    },
    {
      "cell_type": "markdown",
      "metadata": {
        "id": "6p1Pbnj2Rin4"
      },
      "source": [
        "# Job 3: Dancer"
      ]
    },
    {
      "cell_type": "code",
      "execution_count": null,
      "metadata": {
        "id": "vUluyeh_RlRl"
      },
      "outputs": [],
      "source": [
        "downloader.download(\"dancer\", limit=100,  output_dir='images', adult_filter_off=True, force_replace=False)"
      ]
    },
    {
      "cell_type": "code",
      "execution_count": null,
      "metadata": {
        "id": "3irPJbquR-KM"
      },
      "outputs": [],
      "source": [
        "!ls 'images'/'dancer'"
      ]
    },
    {
      "cell_type": "code",
      "source": [
        "image_dir = '/content/FairFace/images/dancer'\n",
        "\n",
        "# List all files in the directory\n",
        "all_files = os.listdir(image_dir)\n",
        "\n",
        "# Filter out and delete .gif files\n",
        "gif_files = [f for f in all_files if f.lower().endswith('.gif')]\n",
        "\n",
        "for gif_file in gif_files:\n",
        "    gif_file_path = os.path.join(image_dir, gif_file)\n",
        "    os.remove(gif_file_path)\n",
        "    print(f\"Removed GIF file: {gif_file_path}\")\n",
        "\n",
        "# Verify that all .gif files have been removed\n",
        "remaining_files = [f for f in os.listdir(image_dir) if f.lower().endswith('.gif')]\n",
        "if not remaining_files:\n",
        "    print(\"All .gif files have been successfully removed.\")\n",
        "else:\n",
        "    print(\"Some .gif files could not be removed:\", remaining_files)"
      ],
      "metadata": {
        "id": "zYHNkYz3nvHQ"
      },
      "execution_count": null,
      "outputs": []
    },
    {
      "cell_type": "code",
      "execution_count": null,
      "metadata": {
        "id": "iy94rw1xSzdS"
      },
      "outputs": [],
      "source": [
        "# Mount Google Drive\n",
        "from google.colab import drive\n",
        "drive.mount('/content/drive/', force_remount=True)\n",
        "\n",
        "# Define the correct directory containing the images\n",
        "dancer_image_dir = 'images/dancer'\n",
        "\n",
        "# Verify the directory exists\n",
        "if os.path.exists(dancer_image_dir):\n",
        "    # Get the list of image file names\n",
        "    dancer_image_files = os.listdir(dancer_image_dir)\n",
        "\n",
        "    # Create a DataFrame with the full image paths\n",
        "    dancer_df = pd.DataFrame([{'img_path': os.path.join(dancer_image_dir, img)} for img in dancer_image_files])\n",
        "\n",
        "    # Define the path to save the CSV file in Google Drive\n",
        "    dancer_csv_path = '/content/drive/My Drive/dancer_images.csv'\n",
        "\n",
        "    # Save the DataFrame as a CSV file\n",
        "    dancer_df.to_csv(dancer_csv_path, index=False)\n",
        "\n",
        "    print(f\"DataFrame saved as CSV file at: {dancer_csv_path}\")\n",
        "else:\n",
        "    print(f\"The directory {dancer_image_dir} does not exist.\")"
      ]
    },
    {
      "cell_type": "markdown",
      "source": [
        "# Gender Detection - Dancer"
      ],
      "metadata": {
        "id": "j1G7Sg-rh3aV"
      }
    },
    {
      "cell_type": "code",
      "source": [
        "# Define the path to the CSV file in Google Drive\n",
        "dancer_csv_path = '/content/drive/My Drive/dancer_images.csv'\n",
        "\n",
        "# Define the path to the FairFace directory\n",
        "fairface_dir = '/content/FairFace/'\n",
        "\n",
        "# Verify the FairFace directory exists\n",
        "if os.path.exists(fairface_dir):\n",
        "    # Define the destination path for the CSV file in the FairFace directory\n",
        "    fairface_csv_path = os.path.join(fairface_dir, 'dancer_images.csv')\n",
        "\n",
        "    # Copy the CSV file to the FairFace directory\n",
        "    shutil.copy(dancer_csv_path, fairface_csv_path)\n",
        "\n",
        "    print(f\"CSV file copied to: {fairface_csv_path}\")\n",
        "else:\n",
        "    print(f\"The directory {fairface_dir} does not exist.\")"
      ],
      "metadata": {
        "id": "VOzlOiaviBlK"
      },
      "execution_count": null,
      "outputs": []
    },
    {
      "cell_type": "code",
      "source": [
        "# Define the path to the test outputs CSV file\n",
        "test_outputs_csv_path = '/content/FairFace/test_outputs.csv'\n",
        "\n",
        "# Clear the contents of the file\n",
        "with open(test_outputs_csv_path, 'w') as file:\n",
        "    file.truncate(0)\n",
        "\n",
        "print(f\"Cleared the contents of {test_outputs_csv_path}\")"
      ],
      "metadata": {
        "id": "A7X_Q9LzMYo1"
      },
      "execution_count": null,
      "outputs": []
    },
    {
      "cell_type": "code",
      "source": [
        "# Clear the detected_faces directory\n",
        "if os.path.exists(detected_faces_dir):\n",
        "    for file_name in os.listdir(detected_faces_dir):\n",
        "        file_path = os.path.join(detected_faces_dir, file_name)\n",
        "        if os.path.isfile(file_path):\n",
        "            os.unlink(file_path)\n",
        "        elif os.path.isdir(file_path):\n",
        "            shutil.rmtree(file_path)\n",
        "    print(f\"Cleared the directory: {detected_faces_dir}\")\n",
        "else:\n",
        "    os.makedirs(detected_faces_dir)\n",
        "    print(f\"Created the directory: {detected_faces_dir}\")"
      ],
      "metadata": {
        "id": "lcJYXW1Hooxc"
      },
      "execution_count": null,
      "outputs": []
    },
    {
      "cell_type": "code",
      "source": [
        "%cd /content/FairFace\n",
        "\n",
        "!python3 predict.py --csv \"dancer_images.csv\""
      ],
      "metadata": {
        "id": "wkK9dujJiUVZ"
      },
      "execution_count": null,
      "outputs": []
    },
    {
      "cell_type": "code",
      "source": [
        "# Define the path to the test outputs CSV file\n",
        "test_outputs_csv_path = '/content/FairFace/test_outputs.csv'\n",
        "\n",
        "# Read the CSV file into a DataFrame\n",
        "predictions_df = pd.read_csv(test_outputs_csv_path)\n",
        "\n",
        "# Function to display an image with a title\n",
        "def display_image_with_title(image_path, title):\n",
        "    img = Image.open(image_path)\n",
        "    plt.imshow(img)\n",
        "    plt.title(title)\n",
        "    plt.axis('off')  # Hide the axis\n",
        "    plt.show()\n",
        "\n",
        "# Define the path to the directory where detected faces are saved\n",
        "detected_faces_dir = '/content/FairFace/detected_faces'\n",
        "\n",
        "# Use the correct column names from the CSV\n",
        "image_path_column = 'face_name_align'  # Correct column name for image paths\n",
        "gender_column = 'gender'  # Column name for gender predictions\n",
        "\n",
        "# Filter and display only the detected faces from \"doctor\" images with gender predictions\n",
        "doctor_image_prefix = \"Image_\"\n",
        "for index, row in predictions_df.iterrows():\n",
        "    # Construct the file name and path\n",
        "    image_name = os.path.basename(row[image_path_column])\n",
        "    if image_name.startswith(doctor_image_prefix):\n",
        "        image_path = os.path.join(detected_faces_dir, image_name)\n",
        "        gender_prediction = row[gender_column]\n",
        "        title = f\"Gender: {gender_prediction}\"\n",
        "        print(f\"Displaying image: {image_name} with gender prediction: {gender_prediction}\")\n",
        "        display_image_with_title(image_path, title)"
      ],
      "metadata": {
        "id": "J3OFo-86id2-"
      },
      "execution_count": null,
      "outputs": []
    },
    {
      "cell_type": "code",
      "source": [
        "# Define the path to the test outputs CSV file\n",
        "test_outputs_csv_path = '/content/FairFace/test_outputs.csv'\n",
        "\n",
        "# Read the CSV file into a DataFrame\n",
        "predictions_df = pd.read_csv(test_outputs_csv_path)\n",
        "\n",
        "# Display the first few rows to verify\n",
        "print(predictions_df.head())\n",
        "\n",
        "# Calculate the gender distribution\n",
        "gender_distribution = predictions_df['gender'].value_counts()\n",
        "\n",
        "# Display the gender distribution\n",
        "print(gender_distribution)\n",
        "\n",
        "# Plot the gender distribution\n",
        "plt.figure(figsize=(8, 6))\n",
        "gender_distribution.plot(kind='bar', color=['pink', 'blue'])\n",
        "plt.title('Gender Distribution')\n",
        "plt.xlabel('Gender')\n",
        "plt.ylabel('Count')\n",
        "plt.xticks(rotation=0)\n",
        "plt.show()"
      ],
      "metadata": {
        "id": "iAxbqrr8lkU_"
      },
      "execution_count": null,
      "outputs": []
    },
    {
      "cell_type": "markdown",
      "metadata": {
        "id": "YCT4HXD5Sf7g"
      },
      "source": [
        "# Job 4: Teacher"
      ]
    },
    {
      "cell_type": "code",
      "execution_count": null,
      "metadata": {
        "id": "8BwhelIuSmJl"
      },
      "outputs": [],
      "source": [
        "downloader.download(\"teacher\", limit=100,  output_dir='images', adult_filter_off=True, force_replace=False)"
      ]
    },
    {
      "cell_type": "code",
      "source": [
        "!ls 'images'/'teacher'"
      ],
      "metadata": {
        "id": "knOO-r-CjIDv"
      },
      "execution_count": null,
      "outputs": []
    },
    {
      "cell_type": "code",
      "source": [
        "image_dir = '/content/FairFace/images/teacher'\n",
        "\n",
        "# List all files in the directory\n",
        "all_files = os.listdir(image_dir)\n",
        "\n",
        "# Filter out and delete .gif files\n",
        "gif_files = [f for f in all_files if f.lower().endswith('.gif')]\n",
        "\n",
        "for gif_file in gif_files:\n",
        "    gif_file_path = os.path.join(image_dir, gif_file)\n",
        "    os.remove(gif_file_path)\n",
        "    print(f\"Removed GIF file: {gif_file_path}\")\n",
        "\n",
        "# Verify that all .gif files have been removed\n",
        "remaining_files = [f for f in os.listdir(image_dir) if f.lower().endswith('.gif')]\n",
        "if not remaining_files:\n",
        "    print(\"All .gif files have been successfully removed.\")\n",
        "else:\n",
        "    print(\"Some .gif files could not be removed:\", remaining_files)"
      ],
      "metadata": {
        "id": "rKusRCLTpKd-"
      },
      "execution_count": null,
      "outputs": []
    },
    {
      "cell_type": "code",
      "source": [
        "# Mount Google Drive\n",
        "from google.colab import drive\n",
        "drive.mount('/content/drive/', force_remount=True)\n",
        "\n",
        "# Define the correct directory containing the images\n",
        "teacher_image_dir = 'images/teacher'\n",
        "\n",
        "# Verify the directory exists\n",
        "if os.path.exists(teacher_image_dir):\n",
        "    # Get the list of image file names\n",
        "    teacher_image_files = os.listdir(teacher_image_dir)\n",
        "\n",
        "    # Create a DataFrame with the full image paths\n",
        "    teacher_df = pd.DataFrame([{'img_path': os.path.join(teacher_image_dir, img)} for img in teacher_image_files])\n",
        "\n",
        "    # Define the path to save the CSV file in Google Drive\n",
        "    teacher_csv_path = '/content/drive/My Drive/teacher_images.csv'\n",
        "\n",
        "    # Save the DataFrame as a CSV file\n",
        "    teacher_df.to_csv(teacher_csv_path, index=False)\n",
        "\n",
        "    print(f\"DataFrame saved as CSV file at: {teacher_csv_path}\")\n",
        "else:\n",
        "    print(f\"The directory {teacher_image_dir} does not exist.\")"
      ],
      "metadata": {
        "id": "WJ741_1fjGbi"
      },
      "execution_count": null,
      "outputs": []
    },
    {
      "cell_type": "markdown",
      "source": [
        "# Gender Detection - Teacher"
      ],
      "metadata": {
        "id": "U2a2Fx2moWSm"
      }
    },
    {
      "cell_type": "code",
      "source": [
        "# Define the path to the CSV file in Google Drive\n",
        "teacher_csv_path = '/content/drive/My Drive/teacher_images.csv'\n",
        "\n",
        "# Define the path to the FairFace directory\n",
        "fairface_dir = '/content/FairFace/'\n",
        "\n",
        "# Verify the FairFace directory exists\n",
        "if os.path.exists(fairface_dir):\n",
        "    # Define the destination path for the CSV file in the FairFace directory\n",
        "    fairface_csv_path = os.path.join(fairface_dir, 'teacher_images.csv')\n",
        "\n",
        "    # Copy the CSV file to the FairFace directory\n",
        "    shutil.copy(teacher_csv_path, fairface_csv_path)\n",
        "\n",
        "    print(f\"CSV file copied to: {fairface_csv_path}\")\n",
        "else:\n",
        "    print(f\"The directory {fairface_dir} does not exist.\")"
      ],
      "metadata": {
        "id": "Ejp-jU8zo4O9"
      },
      "execution_count": null,
      "outputs": []
    },
    {
      "cell_type": "code",
      "source": [
        "# Define the path to the test outputs CSV file\n",
        "test_outputs_csv_path = '/content/FairFace/test_outputs.csv'\n",
        "\n",
        "# Clear the contents of the file\n",
        "with open(test_outputs_csv_path, 'w') as file:\n",
        "    file.truncate(0)\n",
        "\n",
        "print(f\"Cleared the contents of {test_outputs_csv_path}\")"
      ],
      "metadata": {
        "id": "jT6lB5nmNVlB"
      },
      "execution_count": null,
      "outputs": []
    },
    {
      "cell_type": "code",
      "source": [
        "# Clear the detected_faces directory\n",
        "if os.path.exists(detected_faces_dir):\n",
        "    for file_name in os.listdir(detected_faces_dir):\n",
        "        file_path = os.path.join(detected_faces_dir, file_name)\n",
        "        if os.path.isfile(file_path):\n",
        "            os.unlink(file_path)\n",
        "        elif os.path.isdir(file_path):\n",
        "            shutil.rmtree(file_path)\n",
        "    print(f\"Cleared the directory: {detected_faces_dir}\")\n",
        "else:\n",
        "    os.makedirs(detected_faces_dir)\n",
        "    print(f\"Created the directory: {detected_faces_dir}\")"
      ],
      "metadata": {
        "id": "Sk3VTJNBpggT"
      },
      "execution_count": null,
      "outputs": []
    },
    {
      "cell_type": "code",
      "source": [
        "%cd /content/FairFace\n",
        "\n",
        "!python3 predict.py --csv \"teacher_images.csv\""
      ],
      "metadata": {
        "id": "ykbpPrIKpjmH"
      },
      "execution_count": null,
      "outputs": []
    },
    {
      "cell_type": "code",
      "source": [
        "# Define the path to the test outputs CSV file\n",
        "test_outputs_csv_path = '/content/FairFace/test_outputs.csv'\n",
        "\n",
        "# Read the CSV file into a DataFrame\n",
        "predictions_df = pd.read_csv(test_outputs_csv_path)\n",
        "\n",
        "# Function to display an image with a title\n",
        "def display_image_with_title(image_path, title):\n",
        "    img = Image.open(image_path)\n",
        "    plt.imshow(img)\n",
        "    plt.title(title)\n",
        "    plt.axis('off')  # Hide the axis\n",
        "    plt.show()\n",
        "\n",
        "# Define the path to the directory where detected faces are saved\n",
        "detected_faces_dir = '/content/FairFace/detected_faces'\n",
        "\n",
        "# Use the correct column names from the CSV\n",
        "image_path_column = 'face_name_align'  # Correct column name for image paths\n",
        "gender_column = 'gender'  # Column name for gender predictions\n",
        "\n",
        "# Filter and display only the detected faces from \"doctor\" images with gender predictions\n",
        "doctor_image_prefix = \"Image_\"\n",
        "for index, row in predictions_df.iterrows():\n",
        "    # Construct the file name and path\n",
        "    image_name = os.path.basename(row[image_path_column])\n",
        "    if image_name.startswith(doctor_image_prefix):\n",
        "        image_path = os.path.join(detected_faces_dir, image_name)\n",
        "        gender_prediction = row[gender_column]\n",
        "        title = f\"Gender: {gender_prediction}\"\n",
        "        print(f\"Displaying image: {image_name} with gender prediction: {gender_prediction}\")\n",
        "        display_image_with_title(image_path, title)"
      ],
      "metadata": {
        "id": "Qcco0qQfozZv"
      },
      "execution_count": null,
      "outputs": []
    },
    {
      "cell_type": "code",
      "source": [
        "# Define the path to the test outputs CSV file\n",
        "test_outputs_csv_path = '/content/FairFace/test_outputs.csv'\n",
        "\n",
        "# Read the CSV file into a DataFrame\n",
        "predictions_df = pd.read_csv(test_outputs_csv_path)\n",
        "\n",
        "# Display the first few rows to verify\n",
        "print(predictions_df.head())\n",
        "\n",
        "# Calculate the gender distribution\n",
        "gender_distribution = predictions_df['gender'].value_counts()\n",
        "\n",
        "# Display the gender distribution\n",
        "print(gender_distribution)\n",
        "\n",
        "# Plot the gender distribution\n",
        "plt.figure(figsize=(8, 6))\n",
        "gender_distribution.plot(kind='bar', color=['pink', 'blue'])\n",
        "plt.title('Gender Distribution')\n",
        "plt.xlabel('Gender')\n",
        "plt.ylabel('Count')\n",
        "plt.xticks(rotation=0)\n",
        "plt.show()"
      ],
      "metadata": {
        "id": "VhLk3SE5peES"
      },
      "execution_count": null,
      "outputs": []
    },
    {
      "cell_type": "markdown",
      "metadata": {
        "id": "p6eIYD0VTPbF"
      },
      "source": [
        "# Job 5: Reporter"
      ]
    },
    {
      "cell_type": "code",
      "execution_count": null,
      "metadata": {
        "id": "_HGDnWmdTSEw"
      },
      "outputs": [],
      "source": [
        "downloader.download(\"reporter\", limit=100,  output_dir='images', adult_filter_off=True, force_replace=False)"
      ]
    },
    {
      "cell_type": "code",
      "source": [
        "!ls 'images'/'reporter'"
      ],
      "metadata": {
        "id": "SLe4q6DNoPkW"
      },
      "execution_count": null,
      "outputs": []
    },
    {
      "cell_type": "code",
      "source": [
        "image_dir = '/content/FairFace/images/reporter'\n",
        "\n",
        "# List all files in the directory\n",
        "all_files = os.listdir(image_dir)\n",
        "\n",
        "# Filter out and delete .gif files\n",
        "gif_files = [f for f in all_files if f.lower().endswith('.gif')]\n",
        "\n",
        "for gif_file in gif_files:\n",
        "    gif_file_path = os.path.join(image_dir, gif_file)\n",
        "    os.remove(gif_file_path)\n",
        "    print(f\"Removed GIF file: {gif_file_path}\")\n",
        "\n",
        "# Verify that all .gif files have been removed\n",
        "remaining_files = [f for f in os.listdir(image_dir) if f.lower().endswith('.gif')]\n",
        "if not remaining_files:\n",
        "    print(\"All .gif files have been successfully removed.\")\n",
        "else:\n",
        "    print(\"Some .gif files could not be removed:\", remaining_files)"
      ],
      "metadata": {
        "id": "cC5Nse6DqjjN"
      },
      "execution_count": null,
      "outputs": []
    },
    {
      "cell_type": "code",
      "source": [
        "# Mount Google Drive\n",
        "from google.colab import drive\n",
        "drive.mount('/content/drive/', force_remount=True)\n",
        "\n",
        "# Define the correct directory containing the images\n",
        "reporter_image_dir = 'images/reporter'\n",
        "\n",
        "# Verify the directory exists\n",
        "if os.path.exists(reporter_image_dir):\n",
        "    # Get the list of image file names\n",
        "    reporter_image_files = os.listdir(reporter_image_dir)\n",
        "\n",
        "    # Create a DataFrame with the full image paths\n",
        "    reporter_df = pd.DataFrame([{'img_path': os.path.join(reporter_image_dir, img)} for img in reporter_image_files])\n",
        "\n",
        "    # Define the path to save the CSV file in Google Drive\n",
        "    reporter_csv_path = '/content/drive/My Drive/reporter_images.csv'\n",
        "\n",
        "    # Save the DataFrame as a CSV file\n",
        "    reporter_df.to_csv(reporter_csv_path, index=False)\n",
        "\n",
        "    print(f\"DataFrame saved as CSV file at: {reporter_csv_path}\")\n",
        "else:\n",
        "    print(f\"The directory {reporter_image_dir} does not exist.\")"
      ],
      "metadata": {
        "id": "DfGxTDOQoKYD"
      },
      "execution_count": null,
      "outputs": []
    },
    {
      "cell_type": "markdown",
      "source": [
        "# Gender Detection - Reporter"
      ],
      "metadata": {
        "id": "XFlbMT62obdS"
      }
    },
    {
      "cell_type": "code",
      "source": [
        "# Define the path to the CSV file in Google Drive\n",
        "reporter_csv_path = '/content/drive/My Drive/reporter_images.csv'\n",
        "\n",
        "# Define the path to the FairFace directory\n",
        "fairface_dir = '/content/FairFace/'\n",
        "\n",
        "# Verify the FairFace directory exists\n",
        "if os.path.exists(fairface_dir):\n",
        "    # Define the destination path for the CSV file in the FairFace directory\n",
        "    fairface_csv_path = os.path.join(fairface_dir, 'reporter_images.csv')\n",
        "\n",
        "    # Copy the CSV file to the FairFace directory\n",
        "    shutil.copy(reporter_csv_path, fairface_csv_path)\n",
        "\n",
        "    print(f\"CSV file copied to: {fairface_csv_path}\")\n",
        "else:\n",
        "    print(f\"The directory {fairface_dir} does not exist.\")"
      ],
      "metadata": {
        "id": "2Yg3DAQyo5Wg"
      },
      "execution_count": null,
      "outputs": []
    },
    {
      "cell_type": "code",
      "source": [
        "# Define the path to the test outputs CSV file\n",
        "test_outputs_csv_path = '/content/FairFace/test_outputs.csv'\n",
        "\n",
        "# Clear the contents of the file\n",
        "with open(test_outputs_csv_path, 'w') as file:\n",
        "    file.truncate(0)\n",
        "\n",
        "print(f\"Cleared the contents of {test_outputs_csv_path}\")"
      ],
      "metadata": {
        "id": "50KHfg9vN5KS"
      },
      "execution_count": null,
      "outputs": []
    },
    {
      "cell_type": "code",
      "source": [
        "# Clear the detected_faces directory\n",
        "if os.path.exists(detected_faces_dir):\n",
        "    for file_name in os.listdir(detected_faces_dir):\n",
        "        file_path = os.path.join(detected_faces_dir, file_name)\n",
        "        if os.path.isfile(file_path):\n",
        "            os.unlink(file_path)\n",
        "        elif os.path.isdir(file_path):\n",
        "            shutil.rmtree(file_path)\n",
        "    print(f\"Cleared the directory: {detected_faces_dir}\")\n",
        "else:\n",
        "    os.makedirs(detected_faces_dir)\n",
        "    print(f\"Created the directory: {detected_faces_dir}\")"
      ],
      "metadata": {
        "id": "2U3CcF1jpugM"
      },
      "execution_count": null,
      "outputs": []
    },
    {
      "cell_type": "code",
      "source": [
        "%cd /content/FairFace\n",
        "\n",
        "!python3 predict.py --csv \"reporter_images.csv\""
      ],
      "metadata": {
        "id": "cSna8iPjpxZu"
      },
      "execution_count": null,
      "outputs": []
    },
    {
      "cell_type": "code",
      "source": [
        "# Define the path to the test outputs CSV file\n",
        "test_outputs_csv_path = '/content/FairFace/test_outputs.csv'\n",
        "\n",
        "# Read the CSV file into a DataFrame\n",
        "predictions_df = pd.read_csv(test_outputs_csv_path)\n",
        "\n",
        "# Function to display an image with a title\n",
        "def display_image_with_title(image_path, title):\n",
        "    img = Image.open(image_path)\n",
        "    plt.imshow(img)\n",
        "    plt.title(title)\n",
        "    plt.axis('off')  # Hide the axis\n",
        "    plt.show()\n",
        "\n",
        "# Define the path to the directory where detected faces are saved\n",
        "detected_faces_dir = '/content/FairFace/detected_faces'\n",
        "\n",
        "# Use the correct column names from the CSV\n",
        "image_path_column = 'face_name_align'  # Correct column name for image paths\n",
        "gender_column = 'gender'  # Column name for gender predictions\n",
        "\n",
        "# Filter and display only the detected faces from \"doctor\" images with gender predictions\n",
        "doctor_image_prefix = \"Image_\"\n",
        "for index, row in predictions_df.iterrows():\n",
        "    # Construct the file name and path\n",
        "    image_name = os.path.basename(row[image_path_column])\n",
        "    if image_name.startswith(doctor_image_prefix):\n",
        "        image_path = os.path.join(detected_faces_dir, image_name)\n",
        "        gender_prediction = row[gender_column]\n",
        "        title = f\"Gender: {gender_prediction}\"\n",
        "        print(f\"Displaying image: {image_name} with gender prediction: {gender_prediction}\")\n",
        "        display_image_with_title(image_path, title)"
      ],
      "metadata": {
        "id": "JJzF4JFyo00D"
      },
      "execution_count": null,
      "outputs": []
    },
    {
      "cell_type": "code",
      "source": [
        "# Define the path to the test outputs CSV file\n",
        "test_outputs_csv_path = '/content/FairFace/test_outputs.csv'\n",
        "\n",
        "# Read the CSV file into a DataFrame\n",
        "predictions_df = pd.read_csv(test_outputs_csv_path)\n",
        "\n",
        "# Display the first few rows to verify\n",
        "print(predictions_df.head())\n",
        "\n",
        "# Calculate the gender distribution\n",
        "gender_distribution = predictions_df['gender'].value_counts()\n",
        "\n",
        "# Display the gender distribution\n",
        "print(gender_distribution)\n",
        "\n",
        "# Plot the gender distribution\n",
        "plt.figure(figsize=(8, 6))\n",
        "gender_distribution.plot(kind='bar', color=['pink', 'blue'])\n",
        "plt.title('Gender Distribution')\n",
        "plt.xlabel('Gender')\n",
        "plt.ylabel('Count')\n",
        "plt.xticks(rotation=0)\n",
        "plt.show()"
      ],
      "metadata": {
        "id": "8CxYlAs1qzR-"
      },
      "execution_count": null,
      "outputs": []
    }
  ],
  "metadata": {
    "accelerator": "GPU",
    "colab": {
      "gpuType": "T4",
      "provenance": [],
      "toc_visible": true
    },
    "kernelspec": {
      "display_name": "Python 3",
      "name": "python3"
    }
  },
  "nbformat": 4,
  "nbformat_minor": 0
}